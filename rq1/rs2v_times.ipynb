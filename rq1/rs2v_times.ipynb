{
 "cells": [
  {
   "cell_type": "code",
   "execution_count": 13,
   "metadata": {},
   "outputs": [],
   "source": [
    "import os\n",
    "\n",
    "from pathlib import Path"
   ]
  },
  {
   "cell_type": "code",
   "execution_count": 14,
   "metadata": {},
   "outputs": [],
   "source": [
    "base_dir = Path(\"/mnt/sgg/exp/v0/logs/sgg/\")"
   ]
  },
  {
   "cell_type": "code",
   "execution_count": 16,
   "metadata": {},
   "outputs": [
    {
     "name": "stdout",
     "output_type": "stream",
     "text": [
      "Cityscapes: 25971.42 seconds\n",
      "Udacity: 37129.42 seconds\n",
      "Sully: 40114.53 seconds\n",
      "CommaAi: 415792.42 seconds\n",
      "Nuscenes: 34688.44 seconds\n"
     ]
    }
   ],
   "source": [
    "times_per_dataset = {}\n",
    "datasets = ['Cityscapes', 'Udacity', 'Sully', 'CommaAi', 'Nuscenes']\n",
    "\n",
    "for dataset in datasets:\n",
    "    if times_per_dataset.get(dataset) is None:\n",
    "        times_per_dataset[dataset] = 0\n",
    "    for txt_file in os.listdir(base_dir):\n",
    "        if dataset in txt_file:\n",
    "            # Open file and read last line\n",
    "            with open(base_dir / txt_file, 'r') as f:\n",
    "                last_line = f.readlines()[-1]\n",
    "            # Get time\n",
    "            time = float(last_line.split('Time=')[1].split(' ###')[0])\n",
    "            times_per_dataset[dataset] += time\n",
    "    print(f'{dataset}: {times_per_dataset[dataset]:.2f} seconds')"
   ]
  },
  {
   "cell_type": "code",
   "execution_count": null,
   "metadata": {},
   "outputs": [],
   "source": []
  }
 ],
 "metadata": {
  "kernelspec": {
   "display_name": "av",
   "language": "python",
   "name": "python3"
  },
  "language_info": {
   "codemirror_mode": {
    "name": "ipython",
    "version": 3
   },
   "file_extension": ".py",
   "mimetype": "text/x-python",
   "name": "python",
   "nbconvert_exporter": "python",
   "pygments_lexer": "ipython3",
   "version": "3.9.16"
  },
  "orig_nbformat": 4
 },
 "nbformat": 4,
 "nbformat_minor": 2
}
